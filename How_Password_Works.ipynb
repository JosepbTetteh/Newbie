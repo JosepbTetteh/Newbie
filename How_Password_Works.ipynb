{
  "nbformat": 4,
  "nbformat_minor": 0,
  "metadata": {
    "colab": {
      "provenance": [],
      "authorship_tag": "ABX9TyN7oadxSCAIIpqiwUCeGjS3",
      "include_colab_link": true
    },
    "kernelspec": {
      "name": "python3",
      "display_name": "Python 3"
    },
    "language_info": {
      "name": "python"
    }
  },
  "cells": [
    {
      "cell_type": "markdown",
      "metadata": {
        "id": "view-in-github",
        "colab_type": "text"
      },
      "source": [
        "<a href=\"https://colab.research.google.com/github/JosepbTetteh/Newbie/blob/main/How_Password_Works.ipynb\" target=\"_parent\"><img src=\"https://colab.research.google.com/assets/colab-badge.svg\" alt=\"Open In Colab\"/></a>"
      ]
    },
    {
      "cell_type": "code",
      "execution_count": null,
      "metadata": {
        "colab": {
          "base_uri": "https://localhost:8080/"
        },
        "id": "hdOHvEeTT31Z",
        "outputId": "df1da1a9-ffff-4c14-9372-d1715f336e68"
      },
      "outputs": [
        {
          "metadata": {
            "tags": null
          },
          "name": "stdout",
          "output_type": "stream",
          "text": [
            "come in\n",
            "go out\n"
          ]
        }
      ],
      "source": [
        "\n",
        "while True:\n",
        "   Pin=int(input(\"your pin pls \"))\n",
        "   if Pin==1256:\n",
        "      print(\"come in\")\n",
        "      continue \n",
        "   else:\n",
        "      print(\"go out\")"
      ]
    }
  ]
}